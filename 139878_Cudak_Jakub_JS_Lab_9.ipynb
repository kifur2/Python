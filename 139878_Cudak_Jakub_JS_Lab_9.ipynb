{
  "cells": [
    {
      "cell_type": "markdown",
      "metadata": {
        "id": "uek2Po56iXl_"
      },
      "source": [
        "# Języki symboliczne - rok akademicki 2021/2022\n",
        "\n",
        "Przed rozpoczęciem pracy z notatnikiem zmień jego nazwę zgodnie z wzorem: `NrAlbumu_Nazwisko_Imie_PoprzedniaNazwa`\n",
        "\n",
        "Przed wysłaniem notatnika **upewnij się jeszcze raz** że zmieniłeś nazwę i że rozwiązałeś wszystkie zadania/ćwiczenia, w szczególności, że uzupełniłeś wszystkie pola `YOUR CODE HERE` oraz `YOUR ANSWER HERE`."
      ]
    },
    {
      "cell_type": "markdown",
      "metadata": {
        "deletable": false,
        "editable": false,
        "nbgrader": {
          "cell_type": "markdown",
          "checksum": "9a645ec7d83d02d0053fbc0c7bab631f",
          "grade": false,
          "grade_id": "cell-51d5c973082f0959",
          "locked": true,
          "schema_version": 3,
          "solution": false
        },
        "id": "mBwpkTpmiXmG"
      },
      "source": [
        "# Temat: Operatory i dekoratory. Projekt.\n",
        "Zapoznaj się z treścią niniejszego notatnika czytając i wykonując go komórka po komórce. Wykonaj napotkane zadania/ćwiczenia.\n",
        "\n",
        "\n",
        "\n",
        "## Operatory, przeciążanie operatorów.\n",
        "\n",
        "### Emulowanie typów liczbowych.\n",
        "\n",
        "Obiekty zdefiniowane przez użytkownika mogą korzystać ze wszystkich operatorów wbudowanych (`+`, `-`, `*` itd.), jeżeli w ich klasach zdefinuje się odpowiednie metody specjalne. Metody specjalne muszą być implementowane przez obiekty emulujace liczby.\n",
        "\n",
        "Lista metod specjalnych patrz link: https://docs.python.org/3/reference/datamodel.html#special-method-names ,\n",
        "\n",
        "lub: https://pl.python.org/docs/ref/node15.html\n",
        "\n",
        "Dla typów liczbowych wykorzystujemy operatory matematyczne i sprowadzania do zgodności typów.\n",
        "\n",
        "Lista metod specjalnych dla typów liczbowych patrz link: https://pl.python.org/docs/ref/node15.html#SECTION005370000000000000000\n",
        "\n",
        "Wybrane specjalne atrybuty, metody do użycia:\n",
        "\n",
        "- `__add__(self, other)` przeciążony operator `self + other`\n",
        "- `__sub__(self, other)` przeciążony operator `self - other`\n",
        "- `__mul__(self, other)` przeciążony operator `self * other`\n",
        "- `__div__(self, other)` przeciążony operator `self / other`\n",
        "- `__mod__(self, other)`  przeciążony operator `self % other`\n",
        "- `__pow__(self, other[, modulo])`  przeciążony operator `self ** other`, `pow(self, other, modulo)`\n",
        "- `__iadd__(self, other)` przeciążony operator `self += other`\n",
        "- `__isub__(self, other)` przeciążony operator `self -= other`\n",
        "- `__neg__(self)` przeciążony jednoargumentowy operator zmiany znaku `-self`\n",
        "- `__pos__(self)` przeciążony jednoargumentowy operator `+self`\n",
        "- `__int__(self)` przeciążony operator rzutowania na typ `int`\n",
        "- `__float__(self)` przeciążony operator rzutowania na typ `float`\n",
        "\n",
        "Metody specjalne o nazwach rozpoczynających się od litery \"r\" przeznaczone są do operacji o odwróconej kolejności operandów. Przykłady:\n",
        "\n",
        "- `__radd__(self, other)` przeciążony operator `other + self`\n",
        "- `__rsub__(self, other)` przeciążony operator `other - self`\n",
        "- `__rmul__(self, other)` przeciążony operator `other * self`\n",
        "- `__rmod__(self, other)`  przeciążony operator `other % self`\n",
        "\n",
        "\n",
        "#### Przykład.\n",
        "\n",
        "Tworzymy dwie instancje klasy `MY_POINT`. Jako wynik chcemy otrzymać nowy punkt, którego współrzędne są sumą obu wcześniej utworzonych instancji."
      ]
    },
    {
      "cell_type": "code",
      "execution_count": 1,
      "metadata": {
        "id": "EzD6PaxwiXmN"
      },
      "outputs": [],
      "source": [
        "class MY_POINT:\n",
        "    def __init__(self, x, y):\n",
        "        self.x = x\n",
        "        self.y = y\n",
        "        \n",
        "    def disp(self):  # metoda klasy - wypisuje wartość składowych x,y\n",
        "        \"\"\"Metoda klasy wypisująca wartości składowych i, k\"\"\"\n",
        "        print('x = %f, y = %f' % (self.x,self.y))\n",
        "    def setp(self, xx, yy):  # metoda klasy - ustawia wartości x, y\n",
        "        \"\"\"Metoda klasy ustawiająca nową wartość składowych x, y\"\"\"\n",
        "        self.x = xx\n",
        "        self.y = yy"
      ]
    },
    {
      "cell_type": "code",
      "execution_count": 2,
      "metadata": {
        "id": "HoRl7VuViXmQ"
      },
      "outputs": [],
      "source": [
        "a = MY_POINT(1, 1)\n",
        "b = MY_POINT(2, 2)"
      ]
    },
    {
      "cell_type": "markdown",
      "metadata": {
        "deletable": false,
        "editable": false,
        "nbgrader": {
          "cell_type": "markdown",
          "checksum": "0307b190a6fee3a98c976f6cb8df2cc8",
          "grade": false,
          "grade_id": "cell-f7ea14ef92a1a1f3",
          "locked": true,
          "schema_version": 3,
          "solution": false
        },
        "id": "_yooaXsEiXmR"
      },
      "source": [
        "Próba dodania obiektów do siebie zwraca błąd."
      ]
    },
    {
      "cell_type": "code",
      "execution_count": 3,
      "metadata": {
        "colab": {
          "base_uri": "https://localhost:8080/",
          "height": 165
        },
        "id": "tLnRZdo-iXmS",
        "outputId": "ea7f8d62-0e9b-4605-afb8-9390d60c482a"
      },
      "outputs": [
        {
          "output_type": "error",
          "ename": "TypeError",
          "evalue": "ignored",
          "traceback": [
            "\u001b[0;31m---------------------------------------------------------------------------\u001b[0m",
            "\u001b[0;31mTypeError\u001b[0m                                 Traceback (most recent call last)",
            "\u001b[0;32m<ipython-input-3-220ec3af78e8>\u001b[0m in \u001b[0;36m<module>\u001b[0;34m()\u001b[0m\n\u001b[0;32m----> 1\u001b[0;31m \u001b[0mc\u001b[0m \u001b[0;34m=\u001b[0m \u001b[0ma\u001b[0m \u001b[0;34m+\u001b[0m \u001b[0mb\u001b[0m  \u001b[0;31m# błąd\u001b[0m\u001b[0;34m\u001b[0m\u001b[0;34m\u001b[0m\u001b[0m\n\u001b[0m",
            "\u001b[0;31mTypeError\u001b[0m: unsupported operand type(s) for +: 'MY_POINT' and 'MY_POINT'"
          ]
        }
      ],
      "source": [
        "c = a + b  # błąd "
      ]
    },
    {
      "cell_type": "markdown",
      "metadata": {
        "deletable": false,
        "editable": false,
        "nbgrader": {
          "cell_type": "markdown",
          "checksum": "507ed476fdeab2bc7f0b3ba4c90f3d90",
          "grade": false,
          "grade_id": "cell-878e9f3381cdaaaf",
          "locked": true,
          "schema_version": 3,
          "solution": false
        },
        "id": "KA9_JOociXmT"
      },
      "source": [
        "W obrębie klasy definujemy metodę specjalną `__add__()`."
      ]
    },
    {
      "cell_type": "code",
      "execution_count": 4,
      "metadata": {
        "id": "G4CfJv7-iXmU"
      },
      "outputs": [],
      "source": [
        "class MY_POINT:\n",
        "    def __init__(self, x,y):\n",
        "        self.x = x\n",
        "        self.y = y\n",
        "        \n",
        "    def __add__(self, other):\n",
        "        \"\"\"Przeciążony operator + \"\"\"\n",
        "        return MY_POINT(self.x + other.x, self.y + other.y)\n",
        "    \n",
        "    def disp(self):  # metoda klasy - wypisuje wartość składowych x,y\n",
        "        \"\"\"Metoda klasy wypisująca wartości składowych i,k\"\"\"\n",
        "        print('x = %f, y = %f' % (self.x,self.y))\n",
        "        \n",
        "    def setp(self, xx, yy):  # metoda klasy - ustawia wartości x, y\n",
        "        \"\"\"Metoda klasy ustawiająca nową wartość składowych x, y\"\"\"\n",
        "        self.x = xx\n",
        "        self.y = yy"
      ]
    },
    {
      "cell_type": "code",
      "execution_count": 5,
      "metadata": {
        "colab": {
          "base_uri": "https://localhost:8080/"
        },
        "id": "XugHfH_GiXmW",
        "outputId": "5dad5ac3-6039-454c-bc98-a5e3dba16100"
      },
      "outputs": [
        {
          "output_type": "stream",
          "name": "stdout",
          "text": [
            "x = 3.000000, y = 3.000000\n"
          ]
        }
      ],
      "source": [
        "a = MY_POINT(1, 1)\n",
        "b = MY_POINT(2, 2)\n",
        "c = a + b  # teraz jest ok - możemy obiekty dodawać do siebie.\n",
        "c.disp()"
      ]
    },
    {
      "cell_type": "markdown",
      "metadata": {
        "deletable": false,
        "editable": false,
        "nbgrader": {
          "cell_type": "markdown",
          "checksum": "f1ee6169fed858ca38149bcb5882d0a4",
          "grade": false,
          "grade_id": "cell-45d38774196ab2d3",
          "locked": true,
          "schema_version": 3,
          "solution": false
        },
        "id": "8giZfOxEiXmY"
      },
      "source": [
        "### Ćwiczenie 1.\n",
        "\n",
        "Utwórz klasę `MY_VECTOR`, której składowymi będą dwa obiekty klasy `MY_POINT`. Klasa zawiera:\n",
        "\n",
        "I. składowe:\n",
        "- `PointStart` - obiekt klasy `MY_POINT`, punkt początkowy wektora\n",
        "- `PointEnd` - obiekt klasy `MY_POINT`, punkt końcowy wektora\n",
        "- `coord_x` - współrzędna x wektora\n",
        "- `coord_y` - współrzędna y wektora\n",
        "\n",
        "II. metody:\n",
        "- `disp()` - wypisuje współrzędne punktów zaczepienia wektora, zawiera odwołanie do metody `disp()` w klasie `MY_POINT` oraz współrzędne wektora\n",
        "- `length()` - zwraca długość wektora\n",
        "- `rotate()` - zmienia zwrot (współrzędne) wektora\n",
        "- `get_rotate()` - zwraca nowy, odwrócony wektor\n",
        "\n",
        "III. metody specjalne:\n",
        "- `__add__()` zwraca współrzędne wektora będącego sumą dwóch wektorów\n",
        "- `__mul__()` zwraca iloczyn skalarny wektorów"
      ]
    },
    {
      "cell_type": "code",
      "execution_count": 10,
      "metadata": {
        "deletable": false,
        "nbgrader": {
          "cell_type": "code",
          "checksum": "9b5ef83c5cb08076e7fc9e407f1134f7",
          "grade": false,
          "grade_id": "cell-d1c40f0907a97717",
          "locked": false,
          "schema_version": 3,
          "solution": true
        },
        "colab": {
          "base_uri": "https://localhost:8080/"
        },
        "id": "c8W9cEx0iXmZ",
        "outputId": "ce1d0b22-5877-41de-a100-82511eeeb41a"
      },
      "outputs": [
        {
          "output_type": "stream",
          "name": "stdout",
          "text": [
            "PointStart: x = 0.000000, y = 0.000000\n",
            "PointEnd: x = 1.000000, y = 0.000000\n",
            "coord_x  = 1.000000, coord_y = 0.000000\n",
            "\n",
            "PointStart: x = 1.000000, y = 0.000000\n",
            "PointEnd: x = 0.000000, y = 0.000000\n",
            "coord_x  = -1.000000, coord_y = 0.000000\n",
            "\n",
            "(1, 1)\n",
            "0\n"
          ]
        }
      ],
      "source": [
        "import math\n",
        "# YOUR CODE HERE\\\n",
        "class MY_VECTOR:\n",
        "\n",
        "  def __init__(self, p1,p2):\n",
        "      self.PointStart  = p1\n",
        "      self.PointEnd  = p2\n",
        "      self.coord_x =p2.x-p1.x\n",
        "      self.coord_y =p2.y-p1.y\n",
        "        \n",
        "  def __add__(self, other):\n",
        "      \"\"\"Przeciążony operator + \"\"\"\n",
        "      return self.coord_x+ other.coord_x, self.coord_y+ other.coord_y\n",
        "  \n",
        "  def __mul__(self, other):\n",
        "      \"\"\"Przeciążony operator iloczynu skalarnego \"\"\"\n",
        "      return self.coord_x* other.coord_x + self.coord_y * other.coord_y\n",
        "    \n",
        "  def disp(self):  # metoda klasy - wypisuje wartość składowych x,y\n",
        "      \"\"\"Metoda klasy wypisująca wartości składowych\"\"\"\n",
        "\n",
        "      print('PointStart: ', end='')\n",
        "      self.PointStart.disp()\n",
        "      \n",
        "      print('PointEnd: ', end='')\n",
        "      self.PointEnd.disp()\n",
        "\n",
        "      print('coord_x  = %f, coord_y = %f\\n' % (self.coord_x, self.coord_y))\n",
        "\n",
        "  def length(self):\n",
        "    return math.sqrt(self.coord_x**2+self.coord_y**2)\n",
        "\n",
        "  def rotate(self):\n",
        "    self.coord_x=-self.coord_x\n",
        "    self.coord_y=-self.coord_y\n",
        "    self.PointStart, self.PointEnd = self.PointEnd, self.PointStart\n",
        "\n",
        "  def get_rotate(self):\n",
        "    return MY_VECTOR(self.PointEnd, self.PointStart)\n",
        "\n",
        "p1 = MY_POINT(0,0)\n",
        "p2 = MY_POINT(1,0)\n",
        "\n",
        "p3 = MY_POINT(0,1)\n",
        "p4 = MY_POINT(0,2)\n",
        "\n",
        "w1 = MY_VECTOR(p1,p2)\n",
        "#w1.rotate()\n",
        "w1.disp()\n",
        "w2 = w1.get_rotate()\n",
        "w2.disp()\n",
        "\n",
        "w3 = MY_VECTOR(p3,p4)\n",
        "\n",
        "print(w1 + w3)\n",
        "print(w1 * w3)\n"
      ]
    },
    {
      "cell_type": "markdown",
      "metadata": {
        "deletable": false,
        "editable": false,
        "nbgrader": {
          "cell_type": "markdown",
          "checksum": "f69626558403309a5303a370cfffdccb",
          "grade": false,
          "grade_id": "cell-5d0c14c46da8bf56",
          "locked": true,
          "schema_version": 3,
          "solution": false,
          "task": false
        },
        "id": "CBQrHN1JiXma"
      },
      "source": [
        "### Porównywanie egzemplarzy.\n",
        "\n",
        "Wybrane metody do użycia:\n",
        "- `__lt__(self, other)` przeciążony operator `self < other`\n",
        "- `__le__(self, other)` przeciążony operator `self <= other`\n",
        "- `__eq__(self, other)` przeciążony operator `self == other`\n",
        "- `__ne__(self, other)` przeciążony operator `self != other`\n",
        "- `__gt__(self, other)` przeciążony operator `self > other`\n",
        "- `__ge__(self, other)` przeciążony operator `self >= other`\n",
        "\n",
        "Metody te mogą zwracać dowolne wartości, lecz jeśli operator porównania zostanie użyty w kontekście logicznym, zwracana wartość powinna dać się zinterpretować jako wartość logiczna `True` lub `False`, w przeciwnym bowiem wypadku wystąpi wyjątek `TypeError`.\n",
        "\n",
        "Pomiędzy operatorami porównań nie występują żadne zależności mające charakter ogólny. Prawdziwość porównania `x==y` nie musi pociągać za sobą nieprawdziwości porównania `x!=y`. Analogicznie, przy definiowaniu metody `__eq__` należy również zdefiniować `__ne__`, tak aby operatory zachowywały się w oczekiwany sposób.\n",
        "\n",
        "- `__cmp__(self, other)` wywoływana przy operacjach porównań, jeśli porównanie szczegółowe (patrz wyżej) nie jest zdefiniowane. Jeśli `self < other`, funkcja powinna zwrócić całkowitą liczbę ujemną, jeśli `self == other` - zero, jeśli zaś `self > other` - całkowitą liczbę dodatnią. Jeśli klasa nie definiuje operacji `__cmp__()`, `__eq__()`, ani `__ne__()`, jej instancje są porównywane według tożsamości (\"adresów\") obiektów.\n",
        "\n",
        "Przykład.\n",
        "Tworzymy dwie instancje klasy MY_POINT. Jako wynik chcemy informację, czy punkty mają takie same współrzędne."
      ]
    },
    {
      "cell_type": "code",
      "execution_count": 11,
      "metadata": {
        "id": "tMphipnTiXmb"
      },
      "outputs": [],
      "source": [
        "class MY_POINT:\n",
        "    def __init__(self, x,y):\n",
        "        self.x = x\n",
        "        self.y = y\n",
        "        \n",
        "    def disp(self):  # metoda klasy - wypisuje wartość składowych x,y\n",
        "        \"\"\"Metoda klasy wypisująca wartości składowych i,k\"\"\"\n",
        "        print('x = %f, y = %f' % (self.x,self.y))\n",
        "        \n",
        "    def setp(self, xx, yy):  # metoda klasy - ustawia wartości x, y\n",
        "        \"\"\"Metoda klasy ustawiająca nową wartość składowych x, y\"\"\"\n",
        "        self.x = xx\n",
        "        self.y = yy"
      ]
    },
    {
      "cell_type": "code",
      "execution_count": 12,
      "metadata": {
        "colab": {
          "base_uri": "https://localhost:8080/"
        },
        "id": "2x_EUQqaiXmc",
        "outputId": "5d89ff81-c72f-4f18-bb78-2c4f06820902"
      },
      "outputs": [
        {
          "output_type": "execute_result",
          "data": {
            "text/plain": [
              "False"
            ]
          },
          "metadata": {},
          "execution_count": 12
        }
      ],
      "source": [
        "# Klasa MY_POINT nie definiuje operacji __cmp__(), __eq__(), __ne__()\n",
        "a = MY_POINT(1,1)\n",
        "b = MY_POINT(1,1)\n",
        "a == b # Porównanie tożsamości obiektów"
      ]
    },
    {
      "cell_type": "markdown",
      "metadata": {
        "deletable": false,
        "editable": false,
        "nbgrader": {
          "cell_type": "markdown",
          "checksum": "35fff6405b0491e5f8744f0873ee8b83",
          "grade": false,
          "grade_id": "cell-64999ee5bdb70d99",
          "locked": true,
          "schema_version": 3,
          "solution": false,
          "task": false
        },
        "id": "peHymo07iXmc"
      },
      "source": [
        "W obrębie klasy definujemy metodę specjalną `__eq__()` ( oraz `__ne__()`)."
      ]
    },
    {
      "cell_type": "code",
      "execution_count": 13,
      "metadata": {
        "id": "tcg0fKPbiXmd"
      },
      "outputs": [],
      "source": [
        "class MY_POINT:\n",
        "    def __init__(self, x,y):\n",
        "        self.x = x\n",
        "        self.y = y\n",
        "        \n",
        "    def __eq__(self, other):\n",
        "        \"\"\"Przeciążony operator + \"\"\"\n",
        "        return self.x == other.x and self.y == other.y\n",
        "    \n",
        "    def __ne__(self, other):\n",
        "        \"\"\"Przeciążony operator + \"\"\"\n",
        "        return self.x != other.x or self.y != other.y    \n",
        "    \n",
        "    def disp(self):  # metoda klasy - wypisuje wartość składowych x,y\n",
        "        \"\"\"Metoda klasy wypisująca wartości składowych i,k\"\"\"\n",
        "        print('x = %f, y = %f' % (self.x,self.y))\n",
        "        \n",
        "    def setp(self, xx, yy):  # metoda klasy - ustawia wartości x, y\n",
        "        \"\"\"Metoda klasy ustawiająca nową wartość składowych x, y\"\"\"\n",
        "        self.x = xx\n",
        "        self.y = yy"
      ]
    },
    {
      "cell_type": "code",
      "execution_count": 14,
      "metadata": {
        "colab": {
          "base_uri": "https://localhost:8080/"
        },
        "id": "KQPAjh80iXme",
        "outputId": "2afb16aa-4464-4bee-81de-9a35c87b518b"
      },
      "outputs": [
        {
          "output_type": "execute_result",
          "data": {
            "text/plain": [
              "True"
            ]
          },
          "metadata": {},
          "execution_count": 14
        }
      ],
      "source": [
        "a = MY_POINT(1,1)\n",
        "b = MY_POINT(1,1)\n",
        "a == b # Porównanie tożsamości obiektów"
      ]
    },
    {
      "cell_type": "markdown",
      "metadata": {
        "deletable": false,
        "editable": false,
        "nbgrader": {
          "cell_type": "markdown",
          "checksum": "90a2c5cd07e9c5ffd21f735954dfb829",
          "grade": false,
          "grade_id": "cell-2a4312e96272800d",
          "locked": true,
          "schema_version": 3,
          "solution": false,
          "task": false
        },
        "id": "jA8NUhLuiXmf"
      },
      "source": [
        "### Emulowanie obiektów wywoływalnych.\n",
        "\n",
        "- `__call__( self [ , args ... ] )` Wywoływana przy operacji \"wywołania\" instancji jak funkcji; jeśli jest ona zdefiniowana, to `x(arg1, arg2, ...`) jest odpowiednikiem `x.__call__(arg1, arg2, ...)`.  "
      ]
    },
    {
      "cell_type": "code",
      "execution_count": 15,
      "metadata": {
        "id": "CbtotBsViXmg"
      },
      "outputs": [],
      "source": [
        "class MY_POINT:\n",
        "    def __init__(self, x,y):\n",
        "        self.x = x\n",
        "        self.y = y\n",
        "        \n",
        "    def __call__(self, *args, **kwargs):\n",
        "        print(\"Jestem Punktem ({},{})\".format(self.x, self.y),'\\notrzymałem: ', *args)"
      ]
    },
    {
      "cell_type": "code",
      "execution_count": 16,
      "metadata": {
        "colab": {
          "base_uri": "https://localhost:8080/"
        },
        "id": "_k5sBzJ9iXmg",
        "outputId": "7201ff91-60e2-43f7-d5f1-9f122c5658be"
      },
      "outputs": [
        {
          "output_type": "stream",
          "name": "stdout",
          "text": [
            "Jestem Punktem (1,1) \n",
            "otrzymałem:  a b c\n"
          ]
        }
      ],
      "source": [
        "a = MY_POINT(1,1)\n",
        "a('a','b','c')"
      ]
    },
    {
      "cell_type": "markdown",
      "metadata": {
        "deletable": false,
        "editable": false,
        "nbgrader": {
          "cell_type": "markdown",
          "checksum": "3e9f02448ea0631f3b6cc6d2ae71c830",
          "grade": false,
          "grade_id": "cell-88bfed78dca0811f",
          "locked": true,
          "schema_version": 3,
          "solution": false,
          "task": false
        },
        "id": "yTo751haiXmh"
      },
      "source": [
        "## Dekoratory - czyli opakowywanie funkcji.\n",
        "\n",
        "Funkcje w Pythonie mogą być przekazywane jako parametry wywołania innych funkcji oraz mogą być też wartościami zwracanymi przez te funkcje.  Dekoratory opakowują funkcję, modyfikując jej zachowanie.\n",
        "\n",
        "Poniższa funkcja pobiera jako argument inną funkcję i wyświetla nazwę podanej funkcji:"
      ]
    },
    {
      "cell_type": "code",
      "execution_count": 17,
      "metadata": {
        "colab": {
          "base_uri": "https://localhost:8080/"
        },
        "id": "PuWHi4HUiXmi",
        "outputId": "7f325ea2-5e04-455a-a9fc-e5c26a3df547"
      },
      "outputs": [
        {
          "output_type": "stream",
          "name": "stdout",
          "text": [
            "Nazwa funkcji: foo\n"
          ]
        }
      ],
      "source": [
        "def nazwa_funkcji(f):\n",
        "    print('Nazwa funkcji:', f.__name__)\n",
        "    \n",
        "def foo():\n",
        "    print('Funkcja foo')\n",
        "\n",
        "nazwa_funkcji(foo)"
      ]
    },
    {
      "cell_type": "markdown",
      "metadata": {
        "deletable": false,
        "editable": false,
        "nbgrader": {
          "cell_type": "markdown",
          "checksum": "ca1cb975cf266c688837f990dae15690",
          "grade": false,
          "grade_id": "cell-4bc5dddd63bb543b",
          "locked": true,
          "schema_version": 3,
          "solution": false,
          "task": false
        },
        "id": "5X6piIeaiXmi"
      },
      "source": [
        "Poniżej przykład funkcji, która tworzy nową funkcję i zwraca ją jako wynik. W tym wypadku `utworz_dodawanie` tworzy funkcję, która dodaje stałą do jej argumentu:"
      ]
    },
    {
      "cell_type": "code",
      "execution_count": 18,
      "metadata": {
        "colab": {
          "base_uri": "https://localhost:8080/"
        },
        "id": "MiFXKKSjiXmj",
        "outputId": "da1fb07d-a15b-4308-92e5-0789ce123bdf"
      },
      "outputs": [
        {
          "output_type": "stream",
          "name": "stdout",
          "text": [
            "<function utworz_dodawanie.<locals>.dodaj at 0x7ff9c06ec3b0>\n"
          ]
        }
      ],
      "source": [
        "def utworz_dodawanie(x):\n",
        "    def dodaj(y):\n",
        "        return x + y\n",
        "    return dodaj\n",
        "\n",
        "dodaj5 = utworz_dodawanie(5)\n",
        "print(dodaj5)"
      ]
    },
    {
      "cell_type": "code",
      "execution_count": 20,
      "metadata": {
        "colab": {
          "base_uri": "https://localhost:8080/"
        },
        "id": "WAF5XnogiXmk",
        "outputId": "b43657a8-3fd0-4753-f3da-95d73682fc8f"
      },
      "outputs": [
        {
          "output_type": "execute_result",
          "data": {
            "text/plain": [
              "15"
            ]
          },
          "metadata": {},
          "execution_count": 20
        }
      ],
      "source": [
        "dodaj5(10)"
      ]
    },
    {
      "cell_type": "markdown",
      "metadata": {
        "deletable": false,
        "editable": false,
        "nbgrader": {
          "cell_type": "markdown",
          "checksum": "8e7d6f72ecd45295c04b314804e0d603",
          "grade": false,
          "grade_id": "cell-7b328ea4b660b71e",
          "locked": true,
          "schema_version": 3,
          "solution": false,
          "task": false
        },
        "id": "mfGsDbhjiXml"
      },
      "source": [
        "Łącząc obie powyższe możliwości możemy zdefiniować funkcję, która będzie pobierała inną funkcję w parametrze i zwracała jakąś funkcję utworzoną w sposób zależny od podanego parametru.\n",
        "\n",
        "Możemy utworzyć funkcję __opakowującą__ przekazaną funkcję, która będzie pokazywała informacje o każdym wywołaniu tej funkcji:"
      ]
    },
    {
      "cell_type": "code",
      "execution_count": 21,
      "metadata": {
        "id": "3hPm5fWpiXmm"
      },
      "outputs": [],
      "source": [
        "def foo():                        # dekorowana funkcja\n",
        "    print('Funkcja foo')\n",
        "    \n",
        "def pokaz_wywolanie(f):            # dekorator \n",
        "    def opakowanie(*args, **kargs):\n",
        "        print('Wywołuje:', f.__name__)\n",
        "        return f(*args, **kargs)\n",
        "    return opakowanie"
      ]
    },
    {
      "cell_type": "code",
      "execution_count": 22,
      "metadata": {
        "colab": {
          "base_uri": "https://localhost:8080/"
        },
        "id": "JDsiBdFNiXmn",
        "outputId": "bbbc1550-71d1-40cc-a25a-1079749a280b"
      },
      "outputs": [
        {
          "output_type": "stream",
          "name": "stdout",
          "text": [
            "Wywołuje: foo\n",
            "Funkcja foo\n"
          ]
        }
      ],
      "source": [
        "bar = pokaz_wywolanie(foo)\n",
        "bar()"
      ]
    },
    {
      "cell_type": "markdown",
      "metadata": {
        "deletable": false,
        "editable": false,
        "nbgrader": {
          "cell_type": "markdown",
          "checksum": "dfdc1db0136a19418c769d627764ce3f",
          "grade": false,
          "grade_id": "cell-2293284ef2e97b17",
          "locked": true,
          "schema_version": 3,
          "solution": false,
          "task": false
        },
        "id": "4TBBDM2-iXmo"
      },
      "source": [
        "Jeśli przypiszemy rezultat wywołania funkcji `pokaz_wywolanie` do tej samej nazwy co jej argument, to tym samym zastąpimy oryginalną wersję funkcji naszym opakowaniem:"
      ]
    },
    {
      "cell_type": "code",
      "execution_count": 23,
      "metadata": {
        "colab": {
          "base_uri": "https://localhost:8080/"
        },
        "id": "2Wv9RHNFiXmp",
        "outputId": "25fcbf25-d0ae-4bcd-ffaa-b56a0b2df0a4"
      },
      "outputs": [
        {
          "output_type": "stream",
          "name": "stdout",
          "text": [
            "Wywołuje: foo\n",
            "Funkcja foo\n"
          ]
        }
      ],
      "source": [
        "foo = pokaz_wywolanie(foo)\n",
        "foo()"
      ]
    },
    {
      "cell_type": "markdown",
      "metadata": {
        "deletable": false,
        "editable": false,
        "nbgrader": {
          "cell_type": "markdown",
          "checksum": "083c34599afe83e4bca537ea34c666a1",
          "grade": false,
          "grade_id": "cell-d17195476dc43964",
          "locked": true,
          "schema_version": 3,
          "solution": false,
          "task": false
        },
        "id": "Z4js6nBHiXmq"
      },
      "source": [
        "Zamiast pisać:\n",
        "```python\n",
        "foo = pokaz_wywolanie(foo)\n",
        "```\n",
        "python pozwala na prostrze używanie dekoratorów  z wykorzystaniem symbolu `@pokaz_wywolanie` przed defnicją funkcji, np:\n",
        "```python\n",
        "@pokaz_wywolanie\n",
        "def foo():\n",
        "    print('Funkcja foo')\n",
        "```\n"
      ]
    },
    {
      "cell_type": "code",
      "execution_count": 24,
      "metadata": {
        "colab": {
          "base_uri": "https://localhost:8080/"
        },
        "id": "_KTJ5OGkiXmr",
        "outputId": "522ba84f-f510-41df-c670-b10db8e0fe6f"
      },
      "outputs": [
        {
          "output_type": "stream",
          "name": "stdout",
          "text": [
            "Wywołuje: func\n",
            "Funkcja func została opakowana\n"
          ]
        }
      ],
      "source": [
        "def pokaz_wywolanie(f): # dekorator   \n",
        "    def opakowanie(*args, **kargs):\n",
        "        print('Wywołuje:', f.__name__)\n",
        "        return f(*args, **kargs)\n",
        "    return opakowanie\n",
        "\n",
        "@pokaz_wywolanie\n",
        "def func():  # dekorowana funkcja\n",
        "    print('Funkcja func została opakowana')\n",
        "\n",
        "func()"
      ]
    },
    {
      "cell_type": "markdown",
      "metadata": {
        "deletable": false,
        "editable": false,
        "nbgrader": {
          "cell_type": "markdown",
          "checksum": "4d61191beff99907533259cdc89ecd09",
          "grade": false,
          "grade_id": "cell-544691e26b59955c",
          "locked": true,
          "schema_version": 3,
          "solution": false,
          "task": false
        },
        "id": "hCa7_jHbiXms"
      },
      "source": [
        "### Dekorator `wraps`\n",
        "W poprzednich przykładach pominięto, istotny podczas tworzenia własnego dekoratora, dekorator `wraps`. Jego pominięcie powoduje utratę metadanych dekorowanej funkcji (np. docstringa). Zalecane jest, by był on dodawany do tworzonych dekoratorów.\n",
        "\n",
        "Wersja bez dekoratora `wraps`:"
      ]
    },
    {
      "cell_type": "code",
      "execution_count": 25,
      "metadata": {
        "id": "ANsTXxONiXmt"
      },
      "outputs": [],
      "source": [
        "def my_decorator(f): \n",
        "    def wrapper(*args, **kargs):\n",
        "        print('Wywołanie opakowania')\n",
        "        return f(*args, **kargs)\n",
        "    return wrapper\n",
        "\n",
        "@my_decorator\n",
        "def przyklad():\n",
        "    \"\"\"Docstring\"\"\"\n",
        "    print('Wywołanie przykładowej funkcji')"
      ]
    },
    {
      "cell_type": "code",
      "execution_count": 27,
      "metadata": {
        "colab": {
          "base_uri": "https://localhost:8080/"
        },
        "id": "fI9-vv8hiXmt",
        "outputId": "566a57d0-ac84-44c0-8454-47508ef485b2"
      },
      "outputs": [
        {
          "output_type": "stream",
          "name": "stdout",
          "text": [
            "Wywołanie opakowania\n",
            "Wywołanie przykładowej funkcji\n",
            "\n",
            "wrapper\n",
            "None\n"
          ]
        }
      ],
      "source": [
        "przyklad()\n",
        "print()\n",
        "print(przyklad.__name__)\n",
        "print(przyklad.__doc__)"
      ]
    },
    {
      "cell_type": "markdown",
      "metadata": {
        "deletable": false,
        "editable": false,
        "nbgrader": {
          "cell_type": "markdown",
          "checksum": "35f325b97e687eb6e8f20537cfd1ca12",
          "grade": false,
          "grade_id": "cell-e244f908b56c2613",
          "locked": true,
          "schema_version": 3,
          "solution": false,
          "task": false
        },
        "id": "ypuTVWzaiXmu"
      },
      "source": [
        "Wersja z użyciem dekoratora `wraps`:"
      ]
    },
    {
      "cell_type": "code",
      "execution_count": 28,
      "metadata": {
        "id": "WoBORQP-iXmv"
      },
      "outputs": [],
      "source": [
        "from functools import wraps        # import functools\n",
        "\n",
        "def my_decorator(f):\n",
        "    @wraps(f)                      # @functools.wraps(f)   \n",
        "    def wrapper(*args, **kargs):\n",
        "        print('Wywołanie opakowania')\n",
        "        return f(*args, **kargs)\n",
        "    return wrapper\n",
        "\n",
        "@my_decorator\n",
        "def przyklad():\n",
        "    \"\"\"Docstring\"\"\"\n",
        "    print('Wywołanie przykładowej funkcji')"
      ]
    },
    {
      "cell_type": "code",
      "execution_count": 29,
      "metadata": {
        "colab": {
          "base_uri": "https://localhost:8080/"
        },
        "id": "HLt8aFdtiXmv",
        "outputId": "05f88451-ed23-4482-a130-e539b07941b9"
      },
      "outputs": [
        {
          "output_type": "stream",
          "name": "stdout",
          "text": [
            "Wywołanie opakowania\n",
            "Wywołanie przykładowej funkcji\n",
            "przyklad\n",
            "Docstring\n"
          ]
        }
      ],
      "source": [
        "przyklad()\n",
        "print(przyklad.__name__)\n",
        "print(przyklad.__doc__)"
      ]
    },
    {
      "cell_type": "markdown",
      "metadata": {
        "deletable": false,
        "editable": false,
        "nbgrader": {
          "cell_type": "markdown",
          "checksum": "2d150e89daf45f9c551aa0b9e69a0ceb",
          "grade": false,
          "grade_id": "cell-3fddf66b9a25cea4",
          "locked": true,
          "schema_version": 3,
          "solution": false,
          "task": false
        },
        "id": "FImfkEUiiXmw"
      },
      "source": [
        "### Dekoratory z argumentami\n",
        "\n",
        "Liczbę wykonań dekorowanej funkcji możemy podać jako argument dekoratora.\n"
      ]
    },
    {
      "cell_type": "code",
      "execution_count": 30,
      "metadata": {
        "id": "i13cWA1eiXmx"
      },
      "outputs": [],
      "source": [
        "from functools import wraps        # import functools\n",
        "\n",
        "def repeat(n):                     \n",
        "    def my_decorator(f):\n",
        "        @wraps(f)                      # @functools.wraps(f)   \n",
        "        def wrapper(*args, **kargs):\n",
        "            for i in range (n):\n",
        "                print('\\tWywołanie opakowania po raz: {}'.format(i))\n",
        "                value = f(*args, **kargs)\n",
        "            return value\n",
        "        return wrapper\n",
        "    return my_decorator\n",
        "\n",
        "@repeat(4)\n",
        "def przyklad():\n",
        "    \"\"\"Docstring\"\"\"\n",
        "    print('Wywołanie przykładowej funkcji')"
      ]
    },
    {
      "cell_type": "code",
      "execution_count": 31,
      "metadata": {
        "colab": {
          "base_uri": "https://localhost:8080/"
        },
        "id": "QFEvsyWEiXmy",
        "outputId": "f595dc6f-cc55-4bf1-d2fc-63e4ed449991"
      },
      "outputs": [
        {
          "output_type": "stream",
          "name": "stdout",
          "text": [
            "\tWywołanie opakowania po raz: 0\n",
            "Wywołanie przykładowej funkcji\n",
            "\tWywołanie opakowania po raz: 1\n",
            "Wywołanie przykładowej funkcji\n",
            "\tWywołanie opakowania po raz: 2\n",
            "Wywołanie przykładowej funkcji\n",
            "\tWywołanie opakowania po raz: 3\n",
            "Wywołanie przykładowej funkcji\n"
          ]
        }
      ],
      "source": [
        "przyklad()"
      ]
    },
    {
      "cell_type": "markdown",
      "metadata": {
        "deletable": false,
        "editable": false,
        "nbgrader": {
          "cell_type": "markdown",
          "checksum": "bd683de6acc3e3c3e98d0664af292c1d",
          "grade": false,
          "grade_id": "cell-229d3fc3a0951c12",
          "locked": true,
          "schema_version": 3,
          "solution": false,
          "task": false
        },
        "id": "IqtfbnDfiXmy"
      },
      "source": [
        "### Dekoratory w klasach (wybrane).\n",
        "\n",
        "#### Dekorator `@property` \n",
        "- dekorator `@property` identyfikuje metodę jako `getter`\n",
        "- `Gettry` i `settery` nazywane też `akcesorami/mutatorami`, wykorzystywane są odpowiednio do pobierania i ustawiania wartości atrybutu obiektu.\n"
      ]
    },
    {
      "cell_type": "code",
      "execution_count": 32,
      "metadata": {
        "id": "5o30ZMlViXmz"
      },
      "outputs": [],
      "source": [
        "class Osoba:\n",
        "    def __init__(self, name):\n",
        "        self.__name = name\n",
        "    \n",
        "    def get_name(self):\n",
        "        return(self.__name)\n",
        "    \n",
        "    def set_name(self, name):\n",
        "        self.__name = name"
      ]
    },
    {
      "cell_type": "code",
      "execution_count": 33,
      "metadata": {
        "colab": {
          "base_uri": "https://localhost:8080/"
        },
        "id": "DXldP-9fiXm0",
        "outputId": "0ae47121-5c09-475b-c9cc-d3d706402ab4"
      },
      "outputs": [
        {
          "output_type": "stream",
          "name": "stdout",
          "text": [
            "Adam \n"
          ]
        }
      ],
      "source": [
        "a = Osoba('Adam')\n",
        "b = Osoba('')\n",
        "print(a.get_name(), b.get_name())"
      ]
    },
    {
      "cell_type": "code",
      "execution_count": 34,
      "metadata": {
        "colab": {
          "base_uri": "https://localhost:8080/"
        },
        "id": "OHw_NIlIiXm0",
        "outputId": "e64cb496-c22c-4a0f-def4-99df9cc17d3e"
      },
      "outputs": [
        {
          "output_type": "stream",
          "name": "stdout",
          "text": [
            "Adam Basia\n"
          ]
        }
      ],
      "source": [
        "b.set_name('Basia')\n",
        "print(a.get_name(), b.get_name())"
      ]
    },
    {
      "cell_type": "markdown",
      "metadata": {
        "deletable": false,
        "editable": false,
        "nbgrader": {
          "cell_type": "markdown",
          "checksum": "7238d52bdea73aba96723f3574ba2e02",
          "grade": false,
          "grade_id": "cell-aed7650963ec5fdb",
          "locked": true,
          "schema_version": 3,
          "solution": false,
          "task": false
        },
        "id": "TXWUQlxdiXm1"
      },
      "source": [
        "- Możliwe jest zdefiniowanie `getterów` i `setterów` dla zmiennych prywatnych w taki sposób aby móc wywoływać je za pomocą składni `zmienna.pole=wartosc`.\n",
        "- Służy do tego dekorator `@property`, który identyfikuje metodę jako `getter`. Aby dodać `setter` należy użyć `@name.setter`, gdzie `name` musi być takie samo jak nazwa pola."
      ]
    },
    {
      "cell_type": "code",
      "execution_count": 35,
      "metadata": {
        "id": "IL0OGpGViXm2"
      },
      "outputs": [],
      "source": [
        "class Osoba:\n",
        "    def __init__(self, name):\n",
        "        self.__name = name\n",
        "    \n",
        "    @property\n",
        "    def name(self):\n",
        "        return(self.__name)\n",
        "    \n",
        "    @name.setter\n",
        "    def name(self, name):\n",
        "        self.__name = name"
      ]
    },
    {
      "cell_type": "code",
      "execution_count": 36,
      "metadata": {
        "colab": {
          "base_uri": "https://localhost:8080/"
        },
        "id": "X3pWq94QiXm3",
        "outputId": "c1da1152-2843-4192-ad00-d77020af8d76"
      },
      "outputs": [
        {
          "output_type": "stream",
          "name": "stdout",
          "text": [
            "Adam \n"
          ]
        }
      ],
      "source": [
        "a = Osoba('Adam')\n",
        "b = Osoba('')\n",
        "print(a.name, b.name)"
      ]
    },
    {
      "cell_type": "code",
      "execution_count": 37,
      "metadata": {
        "colab": {
          "base_uri": "https://localhost:8080/"
        },
        "id": "VjJKFfwZiXm4",
        "outputId": "1ab7858b-e815-4d88-b19a-b563b67e1860"
      },
      "outputs": [
        {
          "output_type": "stream",
          "name": "stdout",
          "text": [
            "Adam Basia\n"
          ]
        }
      ],
      "source": [
        "b.name = 'Basia'\n",
        "print(a.name, b.name)"
      ]
    },
    {
      "cell_type": "markdown",
      "metadata": {
        "deletable": false,
        "editable": false,
        "nbgrader": {
          "cell_type": "markdown",
          "checksum": "5ce8ae9f4dc01ef8bac45e693b93c195",
          "grade": false,
          "grade_id": "cell-328153119659cf60",
          "locked": true,
          "schema_version": 3,
          "solution": false,
          "task": false
        },
        "id": "BsAob7FuiXm4"
      },
      "source": [
        "#### Dekorator `@staticmethod`  i `@classmethod`\n",
        "- pozwalają wywołać funkcję z klasy bez dostępu do konkretnej instancji.\n",
        "-__Metoda statyczna__ to metoda utworzona wewnątrz klasy, która nie operuje na konkretnej instancji klasy. Nie posiadają one argumentu `self`, lecz opatrzone są dekoratorem `@staticmethod`.\n",
        "- Statyczną metodę można wywołać zarówno przy pomocy nazwy klasy, jak i jej obiektu, ale w obu przypadkach rezultat będzie ten sam. Technicznie jest to bowiem zwyczajna funkcja umieszczona po prostu w zasięgu klasy zamiast w zasięgu globalnym.\n",
        "\n",
        "- __Metoda klasy__ to metoda utworzona wewnątrz klasy, która wywoływana jest na rzecz całej klasy i przyjmuje ową klasę jako swój pierwszy argument (argument ten jest często nazywany `cls` (lub `klass`)), opatrzona jest dekoratorem `@classmethod`. Często wykorzystywane np. do tworzenia dodatkowych konstruktorów.\n",
        "- Podobnie jak metody statyczne, można je wywoływać na dwa sposoby – przy pomocy klasy lub obiektu – ale w obu przypadkach do `cls` trafi wyłącznie klasa. "
      ]
    },
    {
      "cell_type": "code",
      "execution_count": 38,
      "metadata": {
        "id": "H71n2-EBiXm6"
      },
      "outputs": [],
      "source": [
        "class Osoba:\n",
        "    def __init__(self, name):\n",
        "        self.name = name\n",
        "        \n",
        "    @staticmethod\n",
        "    def przywitanie():\n",
        "        print('Witaj!!!')"
      ]
    },
    {
      "cell_type": "code",
      "execution_count": 39,
      "metadata": {
        "colab": {
          "base_uri": "https://localhost:8080/"
        },
        "id": "yBnbWBCxiXm7",
        "outputId": "456af2f5-b4f3-4b78-ff11-ad911034cd74"
      },
      "outputs": [
        {
          "output_type": "stream",
          "name": "stdout",
          "text": [
            "Witaj!!!\n",
            "Witaj!!!\n"
          ]
        }
      ],
      "source": [
        "o = Osoba('Adam')\n",
        "o.przywitanie()\n",
        "Osoba.przywitanie()"
      ]
    },
    {
      "cell_type": "code",
      "execution_count": 44,
      "metadata": {
        "id": "Y2w9hnwtiXm8"
      },
      "outputs": [],
      "source": [
        "class Osoba:\n",
        "    def __init__(self, name):\n",
        "        self.name = name\n",
        "        \n",
        "    @classmethod\n",
        "    def empty(cls):\n",
        "        return(cls(''))"
      ]
    },
    {
      "cell_type": "code",
      "execution_count": 45,
      "metadata": {
        "colab": {
          "base_uri": "https://localhost:8080/"
        },
        "id": "JjgzHtHNiXm8",
        "outputId": "08e7fbed-1d71-4297-9dbf-d53f1fd01db1"
      },
      "outputs": [
        {
          "output_type": "execute_result",
          "data": {
            "text/plain": [
              "('Adam', '', '')"
            ]
          },
          "metadata": {},
          "execution_count": 45
        }
      ],
      "source": [
        "x = Osoba('Adam')\n",
        "y = x.empty()\n",
        "z = Osoba.empty()\n",
        "x.name, y.name, z.name"
      ]
    },
    {
      "cell_type": "markdown",
      "metadata": {
        "deletable": false,
        "editable": false,
        "nbgrader": {
          "cell_type": "markdown",
          "checksum": "82eacebee107a7d874ad34ff852e0b55",
          "grade": false,
          "grade_id": "cell-b1074664c1789a10",
          "locked": true,
          "schema_version": 3,
          "solution": false,
          "task": false
        },
        "id": "SmqPqXTJiXm9"
      },
      "source": [
        "### Dekoratory definiowane jako klasy.\n",
        "\n",
        "- dekorator to obiekt, który można wywołać jak funkcję;\n",
        "- dla klas należy zdefiniować metodę `__call__()` (oraz `__init__()`), jej dodanie pozwala użyć obiekt danej klasy jak funkcji (z argumentami);\n",
        "- operacja wywołania dokonana na klasie powoduje stworzenie nowego obiektu i wywołanie `__init__()`;\n",
        "- natomiast operacja wywołania dokonana na obiekcie powoduje wywołanie `__call__()`."
      ]
    },
    {
      "cell_type": "code",
      "execution_count": 46,
      "metadata": {
        "id": "6qqObfAEiXm-"
      },
      "outputs": [],
      "source": [
        "class MY_POINT:\n",
        "    def __init__(self, x,y):\n",
        "        print('init')\n",
        "        self.x = x\n",
        "        self.y = y\n",
        "        \n",
        "    def __call__(self, *args, **kwargs):\n",
        "        print('call')\n",
        "        print(\"Jestem Punktem ({},{})\".format(self.x, self.y),'\\notrzymałem: ', *args)"
      ]
    },
    {
      "cell_type": "code",
      "execution_count": 47,
      "metadata": {
        "colab": {
          "base_uri": "https://localhost:8080/"
        },
        "id": "neeZzvykiXm_",
        "outputId": "1cddaa20-dd5c-4ef9-bf95-d042d2ae21ed"
      },
      "outputs": [
        {
          "output_type": "stream",
          "name": "stdout",
          "text": [
            "init\n",
            "call\n",
            "Jestem Punktem (1,1) \n",
            "otrzymałem:  a b c\n"
          ]
        }
      ],
      "source": [
        "a = MY_POINT(1,1) # operacja wywołania dokonana na klasie\n",
        "a('a','b','c')    # operacja wywołania dokonana na obiekcie"
      ]
    },
    {
      "cell_type": "markdown",
      "metadata": {
        "deletable": false,
        "editable": false,
        "nbgrader": {
          "cell_type": "markdown",
          "checksum": "1b15171f7f274c52981e6babe890f8da",
          "grade": false,
          "grade_id": "cell-fdeaec3754cafded",
          "locked": true,
          "schema_version": 3,
          "solution": false,
          "task": false
        },
        "id": "N-Pn3X3NiXm_"
      },
      "source": [
        "Napisz dekorator `my_decorator` jako klasę.\n",
        "\n",
        "```python\n",
        "def my_decorator(f): \n",
        "    def wrapper(*args, **kargs):\n",
        "        print('Wywołanie opakowania')\n",
        "        return f(*args, **kargs)\n",
        "    return wrapper\n",
        "\n",
        "@my_decorator\n",
        "def przyklad():\n",
        "    \"\"\"Docstring\"\"\"\n",
        "    print('Wywołanie przykładowej funkcji')\n",
        "```\n"
      ]
    },
    {
      "cell_type": "code",
      "execution_count": 48,
      "metadata": {
        "id": "hO7bkWPCiXnA"
      },
      "outputs": [],
      "source": [
        "class my_decorator:\n",
        "    def __init__(self, f):\n",
        "        self.f = f\n",
        "       \n",
        "    def __call__(self, *args, **kargs):\n",
        "        print('Wywołanie opakowania')\n",
        "        return self.f(*args, **kargs)\n",
        "        \n",
        "@my_decorator\n",
        "def przyklad():\n",
        "    \"\"\"Docstring\"\"\"\n",
        "    print('Wywołanie przykładowej funkcji')        "
      ]
    },
    {
      "cell_type": "code",
      "execution_count": 49,
      "metadata": {
        "colab": {
          "base_uri": "https://localhost:8080/"
        },
        "id": "hMTI-k6piXnB",
        "outputId": "aa0ce9f4-408b-445a-dcaa-bcc648b19531"
      },
      "outputs": [
        {
          "output_type": "stream",
          "name": "stdout",
          "text": [
            "Wywołanie opakowania\n",
            "Wywołanie przykładowej funkcji\n"
          ]
        }
      ],
      "source": [
        "przyklad()"
      ]
    },
    {
      "cell_type": "markdown",
      "metadata": {
        "deletable": false,
        "editable": false,
        "nbgrader": {
          "cell_type": "markdown",
          "checksum": "08e949a050b3a7c38e768d1a4b787ae6",
          "grade": false,
          "grade_id": "cell-3feab9bcc0df6962",
          "locked": true,
          "schema_version": 3,
          "solution": false,
          "task": false
        },
        "id": "Dto-SU4qiXnB"
      },
      "source": [
        "## Zadanie 1. \n",
        "\n",
        "Napisz klasę `Wielblad` posiadającą pola opisujące liczbę garbów oraz wysokość wielbłąda, których wartości przesyłane są jako argument konstruktora. Przeładuj operatory `<`, `>` oraz `==` (metody `__lt__`, `__gt__` oraz `__eq__`) tak, aby porównywały wielbłądy. Za większego uznajemy wielbłąda wyższego, a jeśli porównywane osobniki są tego samego wzrostu, to z większą liczbą garbów.\n",
        "\n",
        "https://docs.python.org/3/reference/datamodel.html#object.__lt__"
      ]
    },
    {
      "cell_type": "code",
      "execution_count": 50,
      "metadata": {
        "deletable": false,
        "nbgrader": {
          "cell_type": "code",
          "checksum": "be5cd90768fb893637d4dc0df002baad",
          "grade": true,
          "grade_id": "cell-2b08afa4d80495b9",
          "locked": false,
          "points": 1,
          "schema_version": 3,
          "solution": true,
          "task": false
        },
        "colab": {
          "base_uri": "https://localhost:8080/"
        },
        "id": "PObaSqfaiXnC",
        "outputId": "fedca03f-2019-4c00-bbad-af778e4513de"
      },
      "outputs": [
        {
          "output_type": "stream",
          "name": "stdout",
          "text": [
            "True\n",
            "False\n",
            "False\n",
            "True\n",
            "False\n",
            "False\n",
            "False\n",
            "True\n",
            "False\n",
            "False\n",
            "False\n",
            "True\n"
          ]
        }
      ],
      "source": [
        "# YOUR CODE HERE\n",
        "class Wielblad():\n",
        "\n",
        "  def __init__(self, garby, wysokosc):\n",
        "    self.liczbaGarbow = garby\n",
        "    self.wysokoscWielblada = wysokosc\n",
        "  def __lt__(self, other):\n",
        "    if self.wysokoscWielblada < other.wysokoscWielblada:\n",
        "      return True\n",
        "    elif self.wysokoscWielblada > other.wysokoscWielblada:\n",
        "      return False\n",
        "    else:\n",
        "      return self.liczbaGarbow < other.liczbaGarbow\n",
        "\n",
        "  def __gt__(self, other):\n",
        "    if self.wysokoscWielblada > other.wysokoscWielblada:\n",
        "      return True\n",
        "    elif self.wysokoscWielblada < other.wysokoscWielblada:\n",
        "      return False\n",
        "    else:\n",
        "      return self.liczbaGarbow > other.liczbaGarbow\n",
        "  \n",
        "  def __eq__(self, other):\n",
        "    if self.wysokoscWielblada == other.wysokoscWielblada and self.liczbaGarbow == other.liczbaGarbow:\n",
        "      return True\n",
        "    else: \n",
        "      return False\n",
        "\n",
        "w1 = Wielblad(3, 4)\n",
        "w2 = Wielblad(4,4)\n",
        "w3 = Wielblad(3,5)\n",
        "\n",
        "print(w1<w2)\n",
        "print(w1>w2)\n",
        "print(w1==w2)\n",
        "print(w1<w3)\n",
        "print(w1>w3)\n",
        "print(w1==w3)\n",
        "print(w3<w2)\n",
        "print(w3>w2)\n",
        "print(w3==w2)\n",
        "print(w1<w1)\n",
        "print(w1>w1)\n",
        "print(w1==w1)"
      ]
    },
    {
      "cell_type": "markdown",
      "metadata": {
        "deletable": false,
        "editable": false,
        "nbgrader": {
          "cell_type": "markdown",
          "checksum": "bf0dafc75a346f2450ee2410831b87ec",
          "grade": false,
          "grade_id": "cell-824d504d547a710c",
          "locked": true,
          "schema_version": 3,
          "solution": false,
          "task": false
        },
        "id": "spLHIZ7UiXnD"
      },
      "source": [
        "## Zadanie 2.\n",
        "\n",
        "Do klasy `Wielblad` dodaj metodę `__bool__` zwracającą prawdę, jeśli wielbłąd ma więcej niż 1 garb.\n",
        "\n",
        "https://docs.python.org/3/reference/datamodel.html#object.__bool__"
      ]
    },
    {
      "cell_type": "code",
      "execution_count": 52,
      "metadata": {
        "deletable": false,
        "nbgrader": {
          "cell_type": "code",
          "checksum": "5ac0ab6c0d5eb622ae56768d1b7c2c62",
          "grade": true,
          "grade_id": "cell-73d80a87588cc68e",
          "locked": false,
          "points": 1,
          "schema_version": 3,
          "solution": true,
          "task": false
        },
        "colab": {
          "base_uri": "https://localhost:8080/"
        },
        "id": "282T6wzRiXnE",
        "outputId": "053778bf-e6cf-466d-8327-f31360c78661"
      },
      "outputs": [
        {
          "output_type": "stream",
          "name": "stdout",
          "text": [
            "True\n",
            "False\n"
          ]
        }
      ],
      "source": [
        "class Wielblad():\n",
        "\n",
        "  def __init__(self, garby, wysokosc):\n",
        "    self.liczbaGarbow = garby\n",
        "    self.wysokoscWielblada = wysokosc\n",
        "\n",
        "  def __bool__(self):\n",
        "    if self.liczbaGarbow>1:\n",
        "      return True\n",
        "    return False\n",
        "\n",
        "  def __lt__(self, other):\n",
        "    if self.wysokoscWielblada < other.wysokoscWielblada:\n",
        "      return True\n",
        "    elif self.wysokoscWielblada > other.wysokoscWielblada:\n",
        "      return False\n",
        "    else:\n",
        "      return self.liczbaGarbow < other.liczbaGarbow\n",
        "\n",
        "  def __gt__(self, other):\n",
        "    if self.wysokoscWielblada > other.wysokoscWielblada:\n",
        "      return True\n",
        "    elif self.wysokoscWielblada < other.wysokoscWielblada:\n",
        "      return False\n",
        "    else:\n",
        "      return self.liczbaGarbow > other.liczbaGarbow\n",
        "  \n",
        "  def __eq__(self, other):\n",
        "    if self.wysokoscWielblada == other.wysokoscWielblada and self.liczbaGarbow == other.liczbaGarbow:\n",
        "      return True\n",
        "    else: \n",
        "      return False\n",
        "\n",
        "w4 = Wielblad(0,0)\n",
        "\n",
        "print(bool(w1))\n",
        "print(bool(w4))"
      ]
    },
    {
      "cell_type": "markdown",
      "metadata": {
        "deletable": false,
        "editable": false,
        "nbgrader": {
          "cell_type": "markdown",
          "checksum": "e15564b317728e610a544340561a7bae",
          "grade": false,
          "grade_id": "cell-e0253968897f60d9",
          "locked": true,
          "schema_version": 3,
          "solution": false,
          "task": false
        },
        "id": "0k0ebI46iXnF"
      },
      "source": [
        "## Zadanie 3.\n",
        "\n",
        "Napisz klasę `Sluzacy` zawierającą metodę `__call__`, wypisującą tekst \"Tak, panie?\". Utwórz obiekt klasy `Sluzacy`, przypisz go do zmiennej o nazwie `marian` i wywołaj ją tak, jakby była funkcją.\n",
        "\n",
        "https://docs.python.org/3/reference/datamodel.html#emulating-callable-objects"
      ]
    },
    {
      "cell_type": "code",
      "execution_count": 53,
      "metadata": {
        "deletable": false,
        "nbgrader": {
          "cell_type": "code",
          "checksum": "08d3026e9f310fd96e63c0079d124c38",
          "grade": true,
          "grade_id": "cell-52694a0ea51fcfb5",
          "locked": false,
          "points": 1,
          "schema_version": 3,
          "solution": true,
          "task": false
        },
        "colab": {
          "base_uri": "https://localhost:8080/"
        },
        "id": "x7oaiN_KiXnF",
        "outputId": "8e2188d5-75bd-4523-93a0-9d1788395883"
      },
      "outputs": [
        {
          "output_type": "stream",
          "name": "stdout",
          "text": [
            "Tak, panie?\n"
          ]
        }
      ],
      "source": [
        "class Sluzacy():\n",
        "        \n",
        "    def __call__(self, *args, **kwargs):\n",
        "        print(\"Tak, panie?\")\n",
        "\n",
        "marian = Sluzacy()\n",
        "marian()"
      ]
    },
    {
      "cell_type": "markdown",
      "metadata": {
        "deletable": false,
        "editable": false,
        "nbgrader": {
          "cell_type": "markdown",
          "checksum": "f748a559875963a162d739ab3ea0e149",
          "grade": false,
          "grade_id": "cell-04103807777c217e",
          "locked": true,
          "schema_version": 3,
          "solution": false,
          "task": false
        },
        "id": "4mcswnbmiXnG"
      },
      "source": [
        "## Zadanie 4.\n",
        "\n",
        "Napisz klasę `OgraniczonaLiczba`, zawierająca pole z wartością liczbową oraz przeładowane operatory dodawania, odejmowania i mnożenia. Operatory powinny wykonywać zwykłe operacje na przechowywanej wartości, wynik ograniczając do zakresu od -128 do 127.\n",
        "\n",
        "https://docs.python.org/3/reference/datamodel.html#emulating-numeric-types"
      ]
    },
    {
      "cell_type": "code",
      "execution_count": 57,
      "metadata": {
        "deletable": false,
        "nbgrader": {
          "cell_type": "code",
          "checksum": "15a44ba1c0301ab39babd336f0bf43e5",
          "grade": true,
          "grade_id": "cell-2f528ead4ab3d8e4",
          "locked": false,
          "points": 1,
          "schema_version": 3,
          "solution": true,
          "task": false
        },
        "colab": {
          "base_uri": "https://localhost:8080/"
        },
        "id": "HRhmPWAziXnH",
        "outputId": "3a922166-61cd-408f-a9cc-e7f98f2f3999"
      },
      "outputs": [
        {
          "output_type": "stream",
          "name": "stdout",
          "text": [
            "127\n",
            "124\n"
          ]
        }
      ],
      "source": [
        "class OgraniczonaLiczba():\n",
        "  def __init__(self, n):\n",
        "    self.x = n\n",
        "\n",
        "  def check(self):\n",
        "    if self.x < -128:\n",
        "      self.x = -128\n",
        "    if self.x > 127:\n",
        "      self.x = 127\n",
        "\n",
        "  def __add__(self, other):\n",
        "    self.x += other\n",
        "    self.check()\n",
        "    return self.x\n",
        "  def __sub__(self, other):\n",
        "    self.x -= other\n",
        "    self.check()\n",
        "    return self.x\n",
        "  def __mul__(self, other):\n",
        "    self.x *= other\n",
        "    self.check()\n",
        "    return self.x\n",
        "\n",
        "l = OgraniczonaLiczba(125)\n",
        "print(l + 5)\n",
        "print(l-3)"
      ]
    },
    {
      "cell_type": "markdown",
      "metadata": {
        "deletable": false,
        "editable": false,
        "nbgrader": {
          "cell_type": "markdown",
          "checksum": "53358e2f19ba9b6b50ee3985ec927b99",
          "grade": false,
          "grade_id": "cell-f54e6801ed9672e6",
          "locked": true,
          "schema_version": 3,
          "solution": false,
          "task": false
        },
        "id": "nQOm2jWziXnI"
      },
      "source": [
        "## Zadanie 5.\n",
        "\n",
        "Napisz funkcję `fibonacci`, która rekurencyjnie wyznacza n-ty wyraz ciągu Fibonacciego.\n",
        "Napisz dekorator dla funkcji `fibonacci` o nazwie `zapamietaj`, który modyfikuje funkcje spamiętując jej wartości (słownik - `n-ty wyraz : odpowiadająca wartość z ciągu`). Porównaj czas działania rekurencyjnej implementacji liczenia wyrazów ciągu Fibonacciego ze spamiętywaniem (z użyciem napisanego dekoratora) i bez.\n",
        "\n",
        "https://realpython.com/primer-on-python-decorators/\n",
        "\n",
        "Pomiar czasu:\n",
        "\n",
        "https://docs.python.org/3/library/timeit.html"
      ]
    },
    {
      "cell_type": "code",
      "execution_count": 85,
      "metadata": {
        "deletable": false,
        "nbgrader": {
          "cell_type": "code",
          "checksum": "3a9006327ed9fcb3d072c2832166b1b6",
          "grade": true,
          "grade_id": "cell-41b622b55fcf0fbb",
          "locked": false,
          "points": 1,
          "schema_version": 3,
          "solution": true,
          "task": false
        },
        "colab": {
          "base_uri": "https://localhost:8080/"
        },
        "id": "t2gWs2AliXnK",
        "outputId": "593143af-cf9b-4c1a-a8da-e9fedd30dbd3"
      },
      "outputs": [
        {
          "output_type": "stream",
          "name": "stdout",
          "text": [
            "5.587415641000007\n",
            "6.325618759000463\n"
          ]
        }
      ],
      "source": [
        "import functools\n",
        "import timeit\n",
        "\n",
        "def Fibonacci( n ):\n",
        "   if n in [0, 1]:\n",
        "     return n\n",
        "   return Fibonacci(n-1) + Fibonacci(n-2)\n",
        "\n",
        "def zapamietaj(f): # dekorator \n",
        "    slownik = dict()           \n",
        "    def opakowanie(*args, **kargs):\n",
        "        x = args\n",
        "        slownik.update({x[0]: f(*args, **kargs)})\n",
        "        return slownik\n",
        "    return opakowanie\n",
        "\n",
        "\n",
        "d = zapamietaj(Fibonacci)\n",
        "print(timeit.timeit('Fibonacci(7)', setup='from __main__ import Fibonacci'))\n",
        "\n",
        "print(timeit.timeit('d(7)', setup='from __main__ import d'))\n"
      ]
    },
    {
      "cell_type": "markdown",
      "metadata": {
        "deletable": false,
        "editable": false,
        "nbgrader": {
          "cell_type": "markdown",
          "checksum": "8caf599bddab1a2a57b064c2f6626bff",
          "grade": false,
          "grade_id": "cell-5bdc91055932ea5e",
          "locked": true,
          "schema_version": 3,
          "solution": false,
          "task": false
        },
        "id": "iJ_vkvlqiXnL"
      },
      "source": [
        "## Zadanie 6.\n",
        "\n",
        "Napisz dekorator dla funkcji o nazwie `zapamietajTroche` którego pamięć na wartości funkcji jest ograniczona do podanej jako argument liczby wpisów. W momencie przepełnienia najstarsze wpisy powinny być usuwane."
      ]
    },
    {
      "cell_type": "code",
      "execution_count": 97,
      "metadata": {
        "deletable": false,
        "nbgrader": {
          "cell_type": "code",
          "checksum": "d0e34c33c67614be81c6f6c7bea729f9",
          "grade": true,
          "grade_id": "cell-0cbdf2bf7c4b41fa",
          "locked": false,
          "points": 1,
          "schema_version": 3,
          "solution": true,
          "task": false
        },
        "colab": {
          "base_uri": "https://localhost:8080/"
        },
        "id": "i_-98S4diXnM",
        "outputId": "9c59f839-f9bd-42a8-993e-b8e1ae292ec2"
      },
      "outputs": [
        {
          "output_type": "stream",
          "name": "stdout",
          "text": [
            "<queue.Queue object at 0x7ff9b86c5fd0>\n",
            "<queue.Queue object at 0x7ff9b86c5fd0>\n",
            "<queue.Queue object at 0x7ff9b86c5fd0>\n",
            "<queue.Queue object at 0x7ff9b86c5fd0>\n",
            "<queue.Queue object at 0x7ff9b86c5fd0>\n",
            "1\n"
          ]
        }
      ],
      "source": [
        "from queue import Queue, Full\n",
        "def funkcja(x):\n",
        "  return x\n",
        "\n",
        "def zapamietajTroche(f, n): # dekorator \n",
        "    kolejka = Queue(n)\n",
        "    def opakowanie(*args, **kargs):\n",
        "      try:\n",
        "        kolejka.put(f(*args, **kargs), False)\n",
        "      except Full:\n",
        "        return kolejka.get(False)\n",
        "      return kolejka\n",
        "\n",
        "    return opakowanie\n",
        "\n",
        "c = zapamietajTroche(funkcja, 5)\n",
        "print(c(1))\n",
        "print(c(2))\n",
        "print(c(3))\n",
        "print(c(4))\n",
        "print(c(5))\n",
        "print(c(6))\n"
      ]
    },
    {
      "cell_type": "code",
      "execution_count": null,
      "metadata": {
        "id": "mHGTQMvLiXnN"
      },
      "outputs": [],
      "source": [
        ""
      ]
    }
  ],
  "metadata": {
    "kernelspec": {
      "display_name": "Python 3 (ipykernel)",
      "language": "python",
      "name": "python3"
    },
    "language_info": {
      "codemirror_mode": {
        "name": "ipython",
        "version": 3
      },
      "file_extension": ".py",
      "mimetype": "text/x-python",
      "name": "python",
      "nbconvert_exporter": "python",
      "pygments_lexer": "ipython3",
      "version": "3.9.7"
    },
    "colab": {
      "name": "139878_Cudak_Jakub_JS_Lab_9.ipynb",
      "provenance": [],
      "collapsed_sections": []
    }
  },
  "nbformat": 4,
  "nbformat_minor": 0
}