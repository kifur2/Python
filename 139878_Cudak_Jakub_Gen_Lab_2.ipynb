{
  "nbformat": 4,
  "nbformat_minor": 0,
  "metadata": {
    "colab": {
      "name": "139878_Cudak_Jakub_Gen_Lab_2.ipynb",
      "provenance": [],
      "collapsed_sections": []
    },
    "kernelspec": {
      "display_name": "Python 3",
      "language": "python",
      "name": "python3"
    },
    "language_info": {
      "codemirror_mode": {
        "name": "ipython",
        "version": 3
      },
      "file_extension": ".py",
      "mimetype": "text/x-python",
      "name": "python",
      "nbconvert_exporter": "python",
      "pygments_lexer": "ipython3",
      "version": "3.7.4"
    }
  },
  "cells": [
    {
      "cell_type": "markdown",
      "metadata": {
        "id": "AMMXLENOd7V-"
      },
      "source": [
        "# Wstęp do Sztucznej Inteligencji - rok akademicki 2021/2022\n",
        "\n",
        "Przed rozpoczęciem pracy z notatnikiem zmień jego nazwę zgodnie z wzorem: `NrAlbumu_Nazwisko_Imie_PoprzedniaNazwa`.\n",
        "\n",
        "Przed wysłaniem notatnika upewnij się, że rozwiązałeś wszystkie zadania/ćwiczenia."
      ]
    },
    {
      "cell_type": "markdown",
      "metadata": {
        "id": "4ZZF68t-kiQ8"
      },
      "source": [
        "# Temat: Optymalizacja globalna: Prosty algorytm genetyczny cz. II\n",
        "Głownym celem zajęć poświęconych alorytmom genetycznym jest stworzenie od podstaw (implentacja) prostego algorytmu genetycznego i późniejsze wykorzystanie go do rozwiązania przykładowych zadań optymalizacji globalnej.\n",
        "\n",
        "W tym notatniku będą Państwo mieli za zadanie zaimplementować trzy operatory genetyczne (trzy funkcje) wykonywane w głównej pętli algorytmu genetycznego. \n",
        "\n",
        "__Ważne:__ Wszystkie te funkcja wykonywane będą w każdej iteracji algorytmu należy zatem zadbać o to aby było ona zaimplementowana w sposób wydajny."
      ]
    },
    {
      "cell_type": "markdown",
      "metadata": {
        "id": "cwgxhLoJ1uGq"
      },
      "source": [
        "## Import biblioteki numpy\n",
        "Wszystkie funkcje należy tworzyć z wykorzystaniem biblioteki `numpy`."
      ]
    },
    {
      "cell_type": "code",
      "metadata": {
        "id": "5Ay9yE_f17t_"
      },
      "source": [
        "import numpy as np"
      ],
      "execution_count": null,
      "outputs": []
    },
    {
      "cell_type": "markdown",
      "metadata": {
        "id": "xTpCaibN1Ccp"
      },
      "source": [
        "## Przykładowa funkcja celu\n",
        "Zadanie optymalizacji w wielu przypadakach sproawadza się optymalizacji odpowiednio sformułowanej funkcj, tzw. funkcji celu. Poniżej przykładowa prosta funkcja umożliwiająca testowanie zaimplemetowanych funkcji.  "
      ]
    },
    {
      "cell_type": "code",
      "metadata": {
        "id": "MDoK-uWZhhD7"
      },
      "source": [
        "# testowa funkcja celu\n",
        "# x - jednowymiarowa tablica ndarray\n",
        "def obj_func(x):\n",
        "    return (x**2).sum()"
      ],
      "execution_count": null,
      "outputs": []
    },
    {
      "cell_type": "markdown",
      "metadata": {
        "id": "rx6b2MiJ2tig"
      },
      "source": [
        "Przykład wywołania.\n",
        "\n",
        "Wektor `x` to tak zwany osobnik, czyli jedno z możliwych (dopuszczalnych) rozwiązań.  "
      ]
    },
    {
      "cell_type": "code",
      "metadata": {
        "id": "jMNPVnxKmRsa",
        "colab": {
          "base_uri": "https://localhost:8080/"
        },
        "outputId": "46bf135e-69a0-4785-baa9-a25301dab304"
      },
      "source": [
        "# przykład wywołania\n",
        "x = np.array([1.2, 0.1, 3, 2.1])\n",
        "print(obj_func(x))"
      ],
      "execution_count": null,
      "outputs": [
        {
          "output_type": "stream",
          "name": "stdout",
          "text": [
            "14.86\n"
          ]
        }
      ]
    },
    {
      "cell_type": "markdown",
      "metadata": {
        "id": "9B7YUblnktrz"
      },
      "source": [
        "## Selekcja: Metoda koła ruletki\n",
        "Metoda ruletki (koła ruletki)– jedna z najbardziej podstawowych metod selekcji. Polega na utworzeniu koła ruletki z polami odpowiadającymi poszczególnym osobnikom. Wielkość pól jest proporcjonalna do wartości funkcji przystosowania (celu). Proces selekcji oparty jest na obrocie ruletką tyle razy ile osobników jest w populacji i na wyborze za każdym razem jednego osobnika do nowej populacji. Pewne osobniki są wybierane więcej niż jeden raz, niektóre dokładnie raz, a niektóre wcale.\n",
        "\n",
        "Koło ruletki w praktyce:\n",
        "- Koło zestępujemy odcinkiem $[0,1]$, który dzielimy na tyle podprzedziałów ile osobników w populacji.\n",
        "- Rozmiar każdego podprzedziału jest proporcjonalny do wartość funkcji celu danego osobnika, tzn. im większa wartość funkcji celu tym odcinek powinnien być większy. Ponieważ cały odcinek ma długośc 1 to rozmiary podprzedziałów można utożsamoć z prawdopodobieństwe przejścia osobnika do nowej populacji i policzyć ze wzoru $p_i= \\frac{e_i}{\\sum_i{e_i}}$, gdzie $i$ to numer osobnika, a $e_i$ to wartość funkcji celu $i$-tego osobnika.\n",
        "- Zamiast kręcić kołem, losujemy liczbę z przedziału $[0,1]$ i sprawdzamy w którym podprzedziale się ona zawiera i osobnika o numerze zgodnym z numerem tego podprzedziału wybieramy do nowej populacji.  \n",
        "\n",
        "Warto zwrócić na fakt, że tak zaproponowany wzór na długości przedziałów $p_i$ zadziała tylko wtedy gdy wszystkie wartości funkcji celu będą dodatnie. Aby to zapewnić wystarczy na początku do wektora wartości funkcji celu dodać odpowiednią stałą zapewniającą dodatniość (lub przynajmniej nieujemność) wszystkich elementów.\n",
        "\n"
      ]
    },
    {
      "cell_type": "markdown",
      "metadata": {
        "id": "5xPZCNLQ2zKO"
      },
      "source": [
        "### Zadanie 1:\n",
        "Zaimplementuj operator selekcji. Selekcja metodą koła ruletki.\n",
        "\n",
        "Argumenty funkcji:\n",
        "- `pop` - populacja zakodowanych osobników, tablica `ndarray`.\n",
        "- `evaluated_pop` - tablica `ndarray` ocen osobników.\n",
        "- `new_pop` - nowa populacja wybranych osobników (zakodowanych), tablica `ndarray`."
      ]
    },
    {
      "cell_type": "code",
      "source": [
        "pop = np.array([[0, 0, 1, 1, 1, 1, 0, 0, 0, 0], [0, 1, 0, 0, 0, 0, 1, 0, 0, 1], [0, 1, 0, 0, 0, 1, 1, 1, 0, 0], [1, 0, 0, 1, 1, 1, 1, 1, 0, 0], [1, 1, 1, 1, 1, 1, 1, 1, 0, 1]])\n",
        "epop = np.array([0.30176899, 0.40998959, 0.88449532, 0.70135276, 1.75858481])"
      ],
      "metadata": {
        "id": "gyYLk96w9-Hm"
      },
      "execution_count": null,
      "outputs": []
    },
    {
      "cell_type": "code",
      "metadata": {
        "id": "roJLXMvG4Dgx",
        "colab": {
          "base_uri": "https://localhost:8080/",
          "height": 356
        },
        "outputId": "6c6dcbee-216b-43b5-bcfb-d4f02bfc5b0d"
      },
      "source": [
        "def roulette(pop, evaluated_pop):\n",
        "\n",
        "  new_evaluated_pop=[i/evaluated_pop.sum() for i in evaluated_pop]\n",
        "  new_new_evaluated_pop = new_evaluated_pop.copy()\n",
        "\n",
        "  for i in range(1,len(new_evaluated_pop)):\n",
        "    new_new_evaluated_pop[i] = new_evaluated_pop[i]+new_new_evaluated_pop[i-1] \n",
        "\n",
        "  new_pop = np.array([[],[],[],[],[],[]])\n",
        "\n",
        "  print(new_new_evaluated_pop)\n",
        "\n",
        "  for i in range(len(pop)):\n",
        "    zmienna = np.random.rand()\n",
        "    print(zmienna)\n",
        "    for j in range(len(pop)):\n",
        "      if zmienna < new_new_evaluated_pop[j]:\n",
        "        new_pop[i] = pop[j]\n",
        "        break\n",
        "  return new_pop \n",
        "  #0.2 0.3 0.1 0.4\n",
        "  # 0.2 0.5 0.6 1\n",
        "\n",
        "print(roulette(pop,epop))"
      ],
      "execution_count": null,
      "outputs": [
        {
          "output_type": "stream",
          "name": "stdout",
          "text": [
            "[0.07439712652420721, 0.17547460105476728, 0.393535145420539, 0.5664443301045647, 1.0]\n",
            "0.2890506393449592\n"
          ]
        },
        {
          "output_type": "error",
          "ename": "ValueError",
          "evalue": "ignored",
          "traceback": [
            "\u001b[0;31m---------------------------------------------------------------------------\u001b[0m",
            "\u001b[0;31mValueError\u001b[0m                                Traceback (most recent call last)",
            "\u001b[0;32m<ipython-input-27-4b7bedd8e906>\u001b[0m in \u001b[0;36m<module>\u001b[0;34m()\u001b[0m\n\u001b[1;32m     22\u001b[0m   \u001b[0;31m# 0.2 0.5 0.6 1\u001b[0m\u001b[0;34m\u001b[0m\u001b[0;34m\u001b[0m\u001b[0;34m\u001b[0m\u001b[0m\n\u001b[1;32m     23\u001b[0m \u001b[0;34m\u001b[0m\u001b[0m\n\u001b[0;32m---> 24\u001b[0;31m \u001b[0mprint\u001b[0m\u001b[0;34m(\u001b[0m\u001b[0mroulette\u001b[0m\u001b[0;34m(\u001b[0m\u001b[0mpop\u001b[0m\u001b[0;34m,\u001b[0m\u001b[0mepop\u001b[0m\u001b[0;34m)\u001b[0m\u001b[0;34m)\u001b[0m\u001b[0;34m\u001b[0m\u001b[0;34m\u001b[0m\u001b[0m\n\u001b[0m",
            "\u001b[0;32m<ipython-input-27-4b7bedd8e906>\u001b[0m in \u001b[0;36mroulette\u001b[0;34m(pop, evaluated_pop)\u001b[0m\n\u001b[1;32m     16\u001b[0m     \u001b[0;32mfor\u001b[0m \u001b[0mj\u001b[0m \u001b[0;32min\u001b[0m \u001b[0mrange\u001b[0m\u001b[0;34m(\u001b[0m\u001b[0mlen\u001b[0m\u001b[0;34m(\u001b[0m\u001b[0mpop\u001b[0m\u001b[0;34m)\u001b[0m\u001b[0;34m)\u001b[0m\u001b[0;34m:\u001b[0m\u001b[0;34m\u001b[0m\u001b[0;34m\u001b[0m\u001b[0m\n\u001b[1;32m     17\u001b[0m       \u001b[0;32mif\u001b[0m \u001b[0mzmienna\u001b[0m \u001b[0;34m<\u001b[0m \u001b[0mnew_new_evaluated_pop\u001b[0m\u001b[0;34m[\u001b[0m\u001b[0mj\u001b[0m\u001b[0;34m]\u001b[0m\u001b[0;34m:\u001b[0m\u001b[0;34m\u001b[0m\u001b[0;34m\u001b[0m\u001b[0m\n\u001b[0;32m---> 18\u001b[0;31m         \u001b[0mnew_pop\u001b[0m\u001b[0;34m[\u001b[0m\u001b[0mi\u001b[0m\u001b[0;34m]\u001b[0m \u001b[0;34m=\u001b[0m \u001b[0mpop\u001b[0m\u001b[0;34m[\u001b[0m\u001b[0mj\u001b[0m\u001b[0;34m]\u001b[0m\u001b[0;34m\u001b[0m\u001b[0;34m\u001b[0m\u001b[0m\n\u001b[0m\u001b[1;32m     19\u001b[0m         \u001b[0;32mbreak\u001b[0m\u001b[0;34m\u001b[0m\u001b[0;34m\u001b[0m\u001b[0m\n\u001b[1;32m     20\u001b[0m   \u001b[0;32mreturn\u001b[0m \u001b[0mnew_pop\u001b[0m\u001b[0;34m\u001b[0m\u001b[0;34m\u001b[0m\u001b[0m\n",
            "\u001b[0;31mValueError\u001b[0m: could not broadcast input array from shape (10,) into shape (0,)"
          ]
        }
      ]
    },
    {
      "cell_type": "markdown",
      "metadata": {
        "id": "VWilOQkE_yA8"
      },
      "source": [
        "## Krzyżowanie\n",
        "Operacja krzyżowania polega na wymianie fragmentów łańcuchów dwóch osobników rodzicielskich. Krzyżowanie jest kluczowym operatorem w algorytmach genetycznych, stanowiącym o ich sile i efektywności.\n",
        "\n",
        "Ideą operatorów krzyżowania jest wymiana kodu genetycznego pomiędzy osobnikami, tak jak to się dzieje w naturze. Stworzono wiele teorii i rodzajów krzyżowań, które stosowane są do różnych rodzajów zadań i są zależne od sposobu kodowania. Dla potrzeb klasycznego algorytmu genetycznego opisano operator krzyżowania jednopunktowego. \n",
        "\n",
        "Krzyżowanie jednopunktowe – krzyżowanie zachodzi z pewnym prawdopodobieństwem `pk`; dla każdego osobnika losuje się liczbę i sprawdza, czy zachodzi krzyżowanie. Następnie dobiera się wybrane osobniki losowo w pary. Losuje się liczbę określającą miejsce krzyżowania i wymienia kod.\n",
        "\n",
        "Podpowiedź: w praktyce krzyżowanie to można zaimplementować na dwa sposoby.\n",
        "\n",
        "Sposób 1. Mając tablicę `pop` z parzystą liczbą osobników jako wiersze, dla każdych kolejnych dwóch wierszy wylosuj liczbę losową z przedziału `[0,1]`. Jeśli jest ona mniejsza niż prawdopodobieństwo krzyżowania, skrzyżuj osobniki i oboje potomków umieść w populacji wynikowej. Jeśli wartość losowa jest większa niż prawdopodobieństwo krzyżowania, skopiuj oboje rodziców do populacji wynikowej. \n",
        "\n",
        "Sposób 2. Mając tablicę `pop` z dowolną (niekoniecznie parzystą) liczbą osobników jako wiersze, dla każdego wiersza wylosuj liczbę losową z przedziału `[0,1]`. Jeśli jest ona mniejsza niż prawdopodobieństwo krzyżowania, skrzyżuj osobnika z osobnikiem w następnym wierszu i dowolnego z potomków (jednego!) umieść w populacji wynikowej. Jeśli wartość losowa jest większa niż prawdopodobieństwo krzyżowania, skopiuj aktualny wiersz do populacji wynikowej. Uwaga: ostatni wiersz krzyżowany jest z pierwszym (następnym w sensie \"modulo\").\n",
        "\n",
        "![krzyzowanie.PNG](http://torus.uck.pk.edu.pl/~amarsz/images/krzyzowanie.PNG)\n",
        "\n",
        "\n"
      ]
    },
    {
      "cell_type": "markdown",
      "metadata": {
        "id": "lFD4AIrBffbv"
      },
      "source": [
        "### Zadanie 2\n",
        "Zaimplementuj operator krzyżowania. Krzyżowanie jedno-punktowe.\n",
        "\n",
        "Argumenty funkcji:\n",
        "- `pop` - populacja zakodowanych osobników, tablica `ndarray`.\n",
        "- `pk` - prawdopodobieństwo krzyżowania dla pary osobników. Liczba rzeczywista z przedziału $[0,1]$.\n",
        "- `new_pop` - nowa populacja osobników po krzyżowaniu (zakodowanych), tablica `ndarray`."
      ]
    },
    {
      "cell_type": "code",
      "metadata": {
        "id": "wiUvCib9A6cc"
      },
      "source": [
        "def cross(pop, pk):\n",
        "    ### TWÓJ KOD TUTAJ\n",
        "    return new_pop"
      ],
      "execution_count": null,
      "outputs": []
    },
    {
      "cell_type": "markdown",
      "metadata": {
        "id": "l_vcZLlxh19H"
      },
      "source": [
        "## Mutacja\n",
        "Mutacja polega na wprowadzeniu do istniejących, zakodowanych osobników, pewnych losowych zmian. Mutacja tworzy nowego osobnika na bazie jednego i tylko jednego rodzica. Jest wiele metod tworzenia nowych osobników za pomocą operatora mutacji.\n",
        "\n",
        "Podstawową formę mutacji można zapisać następująco:\n",
        "$$x'= m(x)$$\n",
        "gdzie: $x$ jest osobnikiem rodzica, $m$ funkcją mutacji, $x'$ to potomek, osobnik zmutowany.\n",
        "\n",
        "Mutacja również zachodzi z pewnym zadanym prawdopodobieństwem `pm`. Można ją zaimplementować na dwa sposoby.\n",
        "\n",
        "Sposób 1. Dla każdego osobnika losuje się liczbę sprawdzając czy będzie on podlegał mutacji. Jeśli tak to losuje się gen, który będzie zmutowany i dokonuje się mutacji (tu: negacja bitu). \n",
        "\n",
        "Sposób 2. Dla danego osobnika, dla każdego genu (bitu) osobno losuje się liczbę sprawdzającą czy będzie podlegał mutacji. Jeśli tak, dokonuje się jego mutacji (u nas: negacja bitu).\n",
        "\n",
        "Mutacja w klasycznym algorytmie genetycznym odgrywa drugorzędną rolę. Częstość mutacji potrzebna do uzyskania dobrych wyników w empirycznych badaniach nad algorytmami genetycznymi jest rzędu jeden do tysiąca skopiowanych bitów. W naturalnych populacjach częstość jest równie mała lub nawet mniejsza. \n",
        "\n",
        "W przypadku osobników zakodowanych binarnie (klasyczny algorytm genetyczny) nie ma problemu ze stosowaniem mutacji (po prostu zamieniamy wartość genu na przeciwny). "
      ]
    },
    {
      "cell_type": "markdown",
      "metadata": {
        "id": "l-OhAVorh9ow"
      },
      "source": [
        "### Zadanie 3\n",
        "Zaimplementuj operator mutacji. Mutacja bitowa.\n",
        "\n",
        "Argumenty funkcji:\n",
        "- `pop` - populacja zakodowanych osobników, tablica `ndarray`.\n",
        "- `pm` prawdopodobieństwo mutacji dla pojedynczego bitu. Liczba rzeczywista z przedziału $[0,1]$.\n",
        "- `new_pop` - nowa populacja osobników po mutacji (zakodowanych), tablica `ndarray`."
      ]
    },
    {
      "cell_type": "code",
      "metadata": {
        "id": "kbBHd2HOEB5P"
      },
      "source": [
        "def mutate(pop, pm):\n",
        "    ### TWÓJ KOD TUTAJ\n",
        "    return new_pop"
      ],
      "execution_count": null,
      "outputs": []
    },
    {
      "cell_type": "markdown",
      "metadata": {
        "id": "C57dALyNj4Se"
      },
      "source": [
        "&copy; Katedra Informatyki, Politechnika Krakowska"
      ]
    }
  ]
}